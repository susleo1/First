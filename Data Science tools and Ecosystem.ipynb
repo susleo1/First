{
  "metadata": {
    "kernelspec": {
      "name": "python",
      "display_name": "Python (Pyodide)",
      "language": "python"
    },
    "language_info": {
      "codemirror_mode": {
        "name": "python",
        "version": 3
      },
      "file_extension": ".py",
      "mimetype": "text/x-python",
      "name": "python",
      "nbconvert_exporter": "python",
      "pygments_lexer": "ipython3",
      "version": "3.8"
    }
  },
  "nbformat_minor": 4,
  "nbformat": 4,
  "cells": [
    {
      "cell_type": "markdown",
      "source": "# Data Science Tools and Ecosystem",
      "metadata": {}
    },
    {
      "cell_type": "markdown",
      "source": "##### In this section, the tools for data science and ecosystem are going to explain.",
      "metadata": {}
    },
    {
      "cell_type": "markdown",
      "source": "#### Commonly used Languages for data science \n\n1. Python\n2. R\n3. Java\n4. Julia",
      "metadata": {}
    },
    {
      "cell_type": "markdown",
      "source": "#### Some of the commonly used libraries used by Data Scientists include:\n\n1. pandas\n2. numpy\n3. Scikit",
      "metadata": {}
    },
    {
      "cell_type": "markdown",
      "source": "|Data Science tools|\n|---------------- |\n|Apache Spark|\n|Julia|\n|Excel|",
      "metadata": {}
    },
    {
      "cell_type": "markdown",
      "source": "### Below are a few examples of evaluating arithmetic expressions in Python",
      "metadata": {}
    },
    {
      "cell_type": "code",
      "source": "######  This a simple arithmetic expression to mutiply then add integers.\n\nanswer = ( 3 * 4 ) + 5\nprint ( answer )",
      "metadata": {
        "trusted": true
      },
      "outputs": [
        {
          "name": "stdout",
          "text": "17\n",
          "output_type": "stream"
        }
      ],
      "execution_count": 20
    },
    {
      "cell_type": "code",
      "source": "##### This will convert 200 minutes to hours by diving by 60.\n\nminutes = 200\nHour = minutes / 60\n\nprint ( Hour )",
      "metadata": {
        "trusted": true
      },
      "outputs": [
        {
          "name": "stdout",
          "text": "3.3333333333333335\n",
          "output_type": "stream"
        }
      ],
      "execution_count": 22
    },
    {
      "cell_type": "markdown",
      "source": "**Objective:**\n##### Popular languages for data science:\n * Python\n  *  Java \n  * Julia \n  * R",
      "metadata": {}
    },
    {
      "cell_type": "markdown",
      "source": "## Author \nAnil Poudel",
      "metadata": {}
    }
  ]
}